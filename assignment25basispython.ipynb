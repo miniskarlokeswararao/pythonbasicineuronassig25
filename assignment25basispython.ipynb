{
 "cells": [
  {
   "cell_type": "code",
   "execution_count": 8,
   "id": "e5c241c5-7a5f-4aa3-8f91-dbf1a46ce3d8",
   "metadata": {},
   "outputs": [
    {
     "name": "stdout",
     "output_type": "stream",
     "text": [
      "Question1 Create a function that takes three integer arguments (a, b, c)\n",
      "and returns the amount of integers which are of equal value.\n",
      "Examples\n",
      "equal(3, 4, 3) ➞ 2 \n",
      " equal(1, 1, 1) ➞ 3 \n",
      " equal(3, 4, 1) ➞ 0  \n",
      " Notes \n",
      " Your function must return 0, 2 or 3.\n",
      "________________________\n",
      "1 == 1 == 1\n",
      "3\n",
      "a= 3 b= 4 c= 3\n",
      "2\n",
      "a= 3 b= 4 c= 1\n",
      "0\n",
      "___________________________\n"
     ]
    }
   ],
   "source": [
    "print('Question1 Create a function that takes three integer arguments (a, b, c)')\n",
    "print( 'and returns the amount of integers which are of equal value.')\n",
    "print('Examples')\n",
    "print('equal(3, 4, 3) ➞ 2 \\n equal(1, 1, 1) ➞ 3 \\n equal(3, 4, 1) ➞ 0  \\n Notes \\n Your function must return 0, 2 or 3.')\n",
    "def equalq(a,b,c):\n",
    "    if(a==b==c):\n",
    "        print(a,\"==\",b,\"==\",c)\n",
    "        return a+b+c\n",
    "    else:\n",
    "        print(\"a=\",a,\"b=\",b,\"c=\",c)\n",
    "        d=a+c-b\n",
    "        return d\n",
    "print(\"________________________\")\n",
    "print(equalq(1,1,1))\n",
    "print(equalq(3,4,3))\n",
    "print(equalq(3,4,1))\n",
    "print('___________________________')"
   ]
  },
  {
   "cell_type": "code",
   "execution_count": 23,
   "id": "e893b18e-5318-471f-8973-e7626acea8c3",
   "metadata": {},
   "outputs": [
    {
     "name": "stdout",
     "output_type": "stream",
     "text": [
      "Write a function that converts a dictionary into a list of keys-values tuples.\n",
      "\n",
      " Notes \n",
      " Return the elements in the list in alphabetical order\n",
      "\n",
      " dict_to_list({  \"D\": 1, \"B\": 2, \"C\": 3}) ➞ [(\"B\", 2), (\"C\", 3), (\"D\", 1)]\n",
      "\n",
      " dict_to_list({\"likes\": 2,\"dislikes\": 3,\"followers\": 10}) ➞ [(\"dislikes\", 3), (\"followers\", 10), (\"likes\", 2)])\n",
      "______________________________________________________________________________________________\n",
      "[('B', 2), ('C', 3), ('D', 1)]\n",
      "______________________________________________________________________\n",
      "[('dislikes', 3), ('followers', 10), ('likes', 2)]\n",
      "____________________________________________________________________________\n"
     ]
    }
   ],
   "source": [
    "print('Write a function that converts a dictionary into a list of keys-values tuples.')\n",
    "print('\\n Notes \\n Return the elements in the list in alphabetical order')\n",
    "print('\\n dict_to_list({  \"D\": 1, \"B\": 2, \"C\": 3}) ➞ [(\"B\", 2), (\"C\", 3), (\"D\", 1)]')\n",
    "print('\\n dict_to_list({\"likes\": 2,\"dislikes\": 3,\"followers\": 10}) ➞ [(\"dislikes\", 3), (\"followers\", 10), (\"likes\", 2)])')\n",
    "def duicttolist(a):\n",
    "    c=sorted(a.items())\n",
    "   # d=list(a.keys())\n",
    "#3print(d)\n",
    "    return c\n",
    "print('______________________________________________________________________________________________')\n",
    "d={  \"D\": 1, \"B\": 2, \"C\": 3}\n",
    "print(duicttolist(d))\n",
    "print(\"______________________________________________________________________\")\n",
    "f={\"likes\": 2,\"dislikes\": 3,\"followers\": 10}\n",
    "print(duicttolist(f))\n",
    "print(\"____________________________________________________________________________\")\n",
    "    \n",
    "\n"
   ]
  },
  {
   "cell_type": "code",
   "execution_count": 66,
   "id": "ca4223f2-b4fd-4923-974b-a3f74ac55d17",
   "metadata": {},
   "outputs": [
    {
     "name": "stdout",
     "output_type": "stream",
     "text": [
      "Question3\n",
      "\n",
      " Write a function that creates a dictionary with each (key, value) pair\n",
      "\n",
      " being the (lower case, upper case) versions of a letter, respectively.\n",
      "\n",
      " Examples\n",
      "\n",
      " mapping([\"p\", \"s\"]) ➞ { \"p\": \"P\", \"s\": \"S\" }\n"
     ]
    },
    {
     "data": {
      "text/plain": [
       "{'a': 'a', 'b': 'b', 'c': 'c'}"
      ]
     },
     "execution_count": 66,
     "metadata": {},
     "output_type": "execute_result"
    }
   ],
   "source": [
    "print('Question3')\n",
    "print('\\n Write a function that creates a dictionary with each (key, value) pair')\n",
    "print('\\n being the (lower case, upper case) versions of a letter, respectively.')\n",
    "print('\\n Examples')\n",
    "print('\\n mapping([\"p\", \"s\"]) ➞ { \"p\": \"P\", \"s\": \"S\" }')\n",
    "#def mapping(a):\n",
    "   # i=0\n",
    "    #while(i<=len(a)):\n",
    "        #x=dict(zip(a[i],a[i].upper()))\n",
    "        #i=i+1\n",
    "        #return x\n",
    "def mapping(a):\n",
    "    b=[]\n",
    "    for i in a:\n",
    "        b.append(i)\n",
    "    d=dict(zip(a,b))\n",
    "    return d\n",
    "        \n",
    "mapping(['a','b','c'])\n",
    "        #print(i)\n",
    "        #c={a[i]:a[i].upper()}\n",
    "        #return c\n",
    "        #s='a'\n",
    "#print(s.upper())\n",
    "#def mapping(a):\n",
    "    #b=[]\n",
    "    #c=[]\n",
    "    #for i in range(0,len(a)):\n",
    "        #s=dict(zip(a[i],a[i].upper()))\n",
    "        #s={a[i],a[i].upper()}\n",
    "        #print(a[i],a[i].upper())\n",
    "        #return s\n",
    "        #b.append(a[i])\n",
    "        #c.append(a[i].upper())\n",
    "    #s=dict(zip(b,c))\n",
    "    #return s\n",
    "        #s={a[i]:a[i].upper()}\n",
    "        #return s\n",
    "   # s=zip(a,a.upper())\n",
    "    #ss=dict(s)\n",
    "    #return ss\n",
    "#def mapping(a):\n",
    "   # bb=[]\n",
    "   # cc=[]\n",
    "    #for i in range(0,len(a)+1):\n",
    "        #b=a[i]\n",
    "        #c=a[i].upper()\n",
    "      #  b=bb.append(a[i])\n",
    "       # c=cc.append(a[i].upper())\n",
    "       # return b,c\"\"\"\n",
    "#mapping(['a','b','c'])     "
   ]
  },
  {
   "cell_type": "code",
   "execution_count": 136,
   "id": "da6f50b4-b337-4c06-9293-71002474f28f",
   "metadata": {},
   "outputs": [
    {
     "name": "stdout",
     "output_type": "stream",
     "text": [
      "Question4\n",
      "Write a function, that replaces all vowels in a string with a specified vowel.\n",
      "Examples\n",
      "vow_replace (apples and bananas ➞ upplus\n",
      "_____________________________________________________\n"
     ]
    },
    {
     "data": {
      "text/plain": [
       "'apple and bannasapple and bannasapple and bannasapple and bannasapple and bannasapple and bannasapple and bannasapple and bannasapple and bannasapple and bannasapple and bannasapple and bannasapple and bannasapple and bannasapple and bannasapple and bannas'"
      ]
     },
     "execution_count": 136,
     "metadata": {},
     "output_type": "execute_result"
    }
   ],
   "source": [
    "print(\"Question4\")\n",
    "print(\"Write a function, that replaces all vowels in a string with a specified vowel.\")\n",
    "print(\"Examples\")\n",
    "print(\"vow_replace (apples and bananas ➞ upplus\")\n",
    "\"\"\"def vow_replace(abc):\n",
    "    if(abc=='a'):\n",
    "        abc.replace('a','u')\n",
    "        return abc\n",
    "    elif(abc=='e'):\n",
    "        abc.replace('e','o')\n",
    "        return abc\n",
    "    elif(abc=='u'):\n",
    "        abc.replace('u','e')\n",
    "        return abc\"\"\"\n",
    "print(\"_____________________________________________________\")\n",
    "#def vowalplace(abc):\n",
    "   # s=''\n",
    "    #for i in range(0,len(abc)):\n",
    "        #if(abc[i]=='a'):\n",
    "           # abc[i].replace(abc[i],'u')\n",
    "       # s=s+abc\n",
    "    #return s\n",
    "\"\"\"def vowalreplace(abc):\n",
    "    s='';\n",
    "    for i in abc:\n",
    "        if(i=='a'):\n",
    "            i='u'\n",
    "            s=s+i\n",
    "            #i.replace('a','u')\n",
    "        #s=s+i\n",
    "    return s\"\"\"\n",
    "def vowelsreplaced(abc):\n",
    "    if a in abc:\n",
    "        print('u')\n",
    "    return abc\n",
    "        \n",
    "        \n",
    "        \n",
    "    \n",
    "    #aa=[a,e,u];\n",
    "    #bb=[u,o,e]\n",
    "    #for i in range(0,3):\n",
    "        #@if(abc==aa[i\n",
    "   # @return abc\n",
    "vowalplace('apple and bannas')\n",
    "\n",
    "    \n",
    "    \n",
    "            \n",
    "            \n",
    "            \n",
    "        \n",
    "    #if(abc=='a'):\n",
    "        #return abc.replace('a','u')\n",
    "    #elif(abc=='e'):\n",
    "        #return abc.replace('e','o')\n",
    "    #elif(abc=='u'):\n",
    "        #return abc.replace('u','e')\n",
    "        \n",
    "\n"
   ]
  },
  {
   "cell_type": "code",
   "execution_count": 151,
   "id": "799a9b7e-fe93-42df-84ea-ccdae2d09b14",
   "metadata": {},
   "outputs": [
    {
     "name": "stdout",
     "output_type": "stream",
     "text": [
      "_____________________________________________\n",
      "upplos und bunnus\n",
      "chooso cussorolo\n",
      "steffod julupono poppors\n"
     ]
    }
   ],
   "source": [
    "def vowelsreplaced(abc):\n",
    "    aa=list(abc)\n",
    "    for i in range(0,len(aa)):\n",
    "        if(aa[i]=='a'):\n",
    "            aa[i]='u'\n",
    "        elif(aa[i]=='e'):\n",
    "            aa[i]='o'\n",
    "        elif(aa[i]=='u'):\n",
    "            aa[i]='e'\n",
    "    ss=''       \n",
    "    for k in range(0,len(aa)):\n",
    "        ss=ss+aa[k];\n",
    "    return ss\n",
    "print(\"_____________________________________________\")\n",
    "x=vowelsreplaced('apples and bannas')\n",
    "print(x)\n",
    "y=vowelsreplaced('cheese casserole')\n",
    "print(y)\n",
    "z=vowelsreplaced('stuffed jalapeno poppers')\n",
    "print(z)"
   ]
  },
  {
   "cell_type": "code",
   "execution_count": 185,
   "id": "24e0baec-bd55-4202-8715-ec1004d71413",
   "metadata": {},
   "outputs": [
    {
     "name": "stdout",
     "output_type": "stream",
     "text": [
      "Create a function that takes a string as input and capitalizes a letter \n",
      "  if its ASCII code is even and returns its lower case version if its ASCII code is odd.\n",
      "0 == 0\n",
      "2 == 2\n",
      "4 == 4\n",
      "6 == 6\n",
      "8 == 8\n",
      "10 == 10\n",
      "12 == 12\n",
      "14 == 14\n",
      "16 == 16\n",
      "18 == 18\n",
      "['T', 'o', ' ', 'b', 'E', ' ', 'O', 'r', ' ', 'n', 'O', 't', ' ', 't', 'O', ' ', 'B', 'e', '!']\n",
      "To bE Or nOt tO Be!\n",
      "____________________________________\n",
      "t\n"
     ]
    }
   ],
   "source": [
    "print('Create a function that takes a string as input and capitalizes a letter \\n  if its ASCII code is even and returns its lower case version if its ASCII code is odd.')\n",
    "def abcd(a):\n",
    "    dd=list(a)\n",
    "    k=0\n",
    "    p=0\n",
    "    for i in range(0,len(dd)+1):\n",
    "        if(i==(2*k)):#2*i):\n",
    "            print(i,\"==\",(2*k))\n",
    "            #k=k+1\n",
    "            dd[i]=dd[i].upper()\n",
    "            k=k+1\n",
    "        #else:\n",
    "        elif(i==2*k):#k):\n",
    "            dd[i]=dd[i].lower()\n",
    "            k=k+1\n",
    "            #k=k+1;\n",
    "        #k=k+1\n",
    "    print((dd))\n",
    "    zz=''\n",
    "    for h in range(0,len(dd)):\n",
    "        zz=zz+dd[h]\n",
    "    print(zz)\n",
    "    return zz\n",
    "abcd(\"to be or not to be!\")\n",
    "print(\"____________________________________\")\n",
    "z='to be or not to be!'\n",
    "print(z[0])\n",
    "    "
   ]
  },
  {
   "cell_type": "code",
   "execution_count": null,
   "id": "cec434bd-26cd-4550-ab7a-48f632dbee45",
   "metadata": {},
   "outputs": [],
   "source": []
  }
 ],
 "metadata": {
  "kernelspec": {
   "display_name": "Python 3 (ipykernel)",
   "language": "python",
   "name": "python3"
  },
  "language_info": {
   "codemirror_mode": {
    "name": "ipython",
    "version": 3
   },
   "file_extension": ".py",
   "mimetype": "text/x-python",
   "name": "python",
   "nbconvert_exporter": "python",
   "pygments_lexer": "ipython3",
   "version": "3.10.6"
  }
 },
 "nbformat": 4,
 "nbformat_minor": 5
}
